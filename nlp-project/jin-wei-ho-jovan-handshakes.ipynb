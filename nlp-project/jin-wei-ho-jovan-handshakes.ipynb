{
 "cells": [
  {
   "cell_type": "code",
   "execution_count": 1,
   "id": "36755f20-b8e1-4397-99c7-16a201961f79",
   "metadata": {},
   "outputs": [],
   "source": [
    "import json\n",
    "import gzip\n",
    "import pandas as pd\n",
    "import numpy as np\n",
    "\n",
    "# BoW and TD-IDF\n",
    "from sklearn.model_selection import train_test_split\n",
    "from scipy import sparse as sp_sparse\n",
    "from sklearn.feature_extraction.text import TfidfVectorizer\n",
    "from sklearn.multiclass import OneVsRestClassifier\n",
    "from sklearn.linear_model import LogisticRegression, RidgeClassifier\n",
    "\n",
    "# Confusion matrix\n",
    "import matplotlib.pyplot as plt\n",
    "from sklearn.metrics import confusion_matrix\n",
    "from sklearn.metrics import multilabel_confusion_matrix\n",
    "import seaborn as sns\n",
    "# evaluation\n",
    "from sklearn.metrics import accuracy_score\n",
    "from sklearn.metrics import f1_score\n",
    "from sklearn.metrics import roc_auc_score \n",
    "from sklearn.metrics import average_precision_score\n",
    "from sklearn.metrics import recall_score\n",
    "\n",
    "# SVC, USE\n",
    "import tensorflow_hub as hub\n",
    "from sklearn.svm import SVC\n",
    "from sklearn.model_selection import GridSearchCV\n",
    "\n",
    "import warnings\n",
    "warnings.filterwarnings(\"ignore\")\n",
    "\n",
    "import spacy"
   ]
  },
  {
   "cell_type": "code",
   "execution_count": 4,
   "id": "ef2298f7-9c23-456f-9cab-1210fa6a4ed3",
   "metadata": {},
   "outputs": [
    {
     "name": "stdout",
     "output_type": "stream",
     "text": [
      "The -> det -> cat\n",
      "cat -> nsubj -> chased\n",
      "chased -> ROOT -> chased\n",
      "the -> det -> mouse\n",
      "mouse -> dobj -> chased\n",
      ". -> punct -> chased\n"
     ]
    }
   ],
   "source": [
    "import spacy\n",
    "nlp = spacy.load(\"en_core_web_lg\")\n",
    "doc = nlp(\"The cat chased the mouse.\")\n",
    "for token in doc:\n",
    "    print(f\"{token.text} -> {token.dep_} -> {token.head.text}\")\n"
   ]
  },
  {
   "cell_type": "code",
   "execution_count": 2,
   "id": "add5a139-9f92-4466-9876-b58d2b1e1dc5",
   "metadata": {},
   "outputs": [
    {
     "name": "stdout",
     "output_type": "stream",
     "text": [
      "tensor([1.], device='mps:0')\n"
     ]
    }
   ],
   "source": [
    "import torch\n",
    "if torch.backends.mps.is_available():\n",
    "    mps_device = torch.device(\"mps\")\n",
    "    x = torch.ones(1, device=mps_device)\n",
    "    print (x)\n",
    "else:\n",
    "    print (\"MPS device not found.\")"
   ]
  },
  {
   "cell_type": "markdown",
   "id": "037b06ee-82c3-4f13-ac66-6638326d7aeb",
   "metadata": {},
   "source": [
    "## 1. Data preparatiOn"
   ]
  },
  {
   "cell_type": "markdown",
   "id": "001c7ef8-ddef-4204-a12d-22cda6f21ded",
   "metadata": {},
   "source": [
    "### 1. data exploration ###"
   ]
  },
  {
   "cell_type": "code",
   "execution_count": 3,
   "id": "67418c05-e72d-422e-a042-0ca8f5b792ab",
   "metadata": {},
   "outputs": [
    {
     "name": "stdout",
     "output_type": "stream",
     "text": [
      "(2291, 5)\n"
     ]
    },
    {
     "data": {
      "text/html": [
       "<div>\n",
       "<style scoped>\n",
       "    .dataframe tbody tr th:only-of-type {\n",
       "        vertical-align: middle;\n",
       "    }\n",
       "\n",
       "    .dataframe tbody tr th {\n",
       "        vertical-align: top;\n",
       "    }\n",
       "\n",
       "    .dataframe thead th {\n",
       "        text-align: right;\n",
       "    }\n",
       "</style>\n",
       "<table border=\"1\" class=\"dataframe\">\n",
       "  <thead>\n",
       "    <tr style=\"text-align: right;\">\n",
       "      <th></th>\n",
       "      <th>article_id</th>\n",
       "      <th>training</th>\n",
       "      <th>title</th>\n",
       "      <th>content</th>\n",
       "      <th>source</th>\n",
       "    </tr>\n",
       "  </thead>\n",
       "  <tbody>\n",
       "    <tr>\n",
       "      <th>0</th>\n",
       "      <td>190000</td>\n",
       "      <td>-Earn,+Fraud,+Mat,-MjInd,+MjCtry,-CreditCh,-Fi...</td>\n",
       "      <td>Brazil prosecutors hit ex-president Lula with ...</td>\n",
       "      <td>Prosecutors on Thursday charged former Brazili...</td>\n",
       "      <td>REUTERS</td>\n",
       "    </tr>\n",
       "    <tr>\n",
       "      <th>1</th>\n",
       "      <td>190001</td>\n",
       "      <td>-Earn,+Fraud,+Mat,-ManCh,+MjCtry,-CreditCh,-Fi...</td>\n",
       "      <td>Trudeau to be questioned by ethics watchdog ov...</td>\n",
       "      <td>Canada’s ethics watchdog will query Justin Tru...</td>\n",
       "      <td>The Guardian</td>\n",
       "    </tr>\n",
       "    <tr>\n",
       "      <th>2</th>\n",
       "      <td>190002</td>\n",
       "      <td>-Earn,-Fraud,+Mat,-ManCh,-MjInd,-MjCtry,-Credi...</td>\n",
       "      <td>Kenya: House to send anti-bribery Bill for pre...</td>\n",
       "      <td>The National Assembly is preparing to forward ...</td>\n",
       "      <td>Daily Nation</td>\n",
       "    </tr>\n",
       "    <tr>\n",
       "      <th>3</th>\n",
       "      <td>190003</td>\n",
       "      <td>-Earn,-Fraud,+Mat,-ManCh,+MjCtry,-CreditCh,-Fi...</td>\n",
       "      <td>EU agrees to extend Russia sanctions until mid...</td>\n",
       "      <td>European Union leaders agreed on Thursday to e...</td>\n",
       "      <td>REUTERS</td>\n",
       "    </tr>\n",
       "    <tr>\n",
       "      <th>4</th>\n",
       "      <td>190004</td>\n",
       "      <td>+Fraud,+Mat,+ManCh,-MjCtry,-CreditCh,+FinDis,-...</td>\n",
       "      <td>Tesco's former commercial boss cleared of frau...</td>\n",
       "      <td>Tesco's former commercial boss Kevin Grace has...</td>\n",
       "      <td>The Telegraph</td>\n",
       "    </tr>\n",
       "  </tbody>\n",
       "</table>\n",
       "</div>"
      ],
      "text/plain": [
       "  article_id                                           training  \\\n",
       "0     190000  -Earn,+Fraud,+Mat,-MjInd,+MjCtry,-CreditCh,-Fi...   \n",
       "1     190001  -Earn,+Fraud,+Mat,-ManCh,+MjCtry,-CreditCh,-Fi...   \n",
       "2     190002  -Earn,-Fraud,+Mat,-ManCh,-MjInd,-MjCtry,-Credi...   \n",
       "3     190003  -Earn,-Fraud,+Mat,-ManCh,+MjCtry,-CreditCh,-Fi...   \n",
       "4     190004  +Fraud,+Mat,+ManCh,-MjCtry,-CreditCh,+FinDis,-...   \n",
       "\n",
       "                                               title  \\\n",
       "0  Brazil prosecutors hit ex-president Lula with ...   \n",
       "1  Trudeau to be questioned by ethics watchdog ov...   \n",
       "2  Kenya: House to send anti-bribery Bill for pre...   \n",
       "3  EU agrees to extend Russia sanctions until mid...   \n",
       "4  Tesco's former commercial boss cleared of frau...   \n",
       "\n",
       "                                             content         source  \n",
       "0  Prosecutors on Thursday charged former Brazili...        REUTERS  \n",
       "1  Canada’s ethics watchdog will query Justin Tru...   The Guardian  \n",
       "2  The National Assembly is preparing to forward ...   Daily Nation  \n",
       "3  European Union leaders agreed on Thursday to e...        REUTERS  \n",
       "4  Tesco's former commercial boss Kevin Grace has...  The Telegraph  "
      ]
     },
     "execution_count": 3,
     "metadata": {},
     "output_type": "execute_result"
    }
   ],
   "source": [
    "data_list = []\n",
    "with gzip.open('data/hs-sample-articles.fjson.gz', 'rt', encoding='utf-8') as f:\n",
    "    for line in f:\n",
    "        data_list.append(json.loads(line))\n",
    "        \n",
    "data = pd.DataFrame(data_list)\n",
    "\n",
    "print(data.shape) \n",
    "data.head()"
   ]
  },
  {
   "cell_type": "code",
   "execution_count": 4,
   "id": "feef8154-ebdb-4306-b86b-ee53a980e86b",
   "metadata": {},
   "outputs": [
    {
     "name": "stdout",
     "output_type": "stream",
     "text": [
      "Detected set of labels:  ['Fines', 'CreditCh', 'Mat', 'ManCh', 'Fraud', 'Earn', 'MjCtry', 'FinDis', 'Other', 'MnA', 'MjInd', 'SevDis']\n",
      "\n",
      "Current df cols:  ['article_id', 'training', 'title', 'content', 'source', 'Fines', 'CreditCh', 'Mat', 'ManCh', 'Fraud', 'Earn', 'MjCtry', 'FinDis', 'Other', 'MnA', 'MjInd', 'SevDis', 'combined_text']\n",
      "(2291, 18)\n"
     ]
    }
   ],
   "source": [
    "# target variables: mulit-label text classification \n",
    "label_set = set()\n",
    "for row in data['training']:\n",
    "    labels = row.split(',')\n",
    "    for label in labels:\n",
    "        # extract wo '+' or '-' sign\n",
    "        label_name = label[1:]   \n",
    "        label_set.add(label_name)\n",
    "        \n",
    "labels = list(label_set)\n",
    "\n",
    "# convert target: to binary representation (0,1)\n",
    "for label in labels:\n",
    "    data[label] = data['training'].apply(lambda x: 1 if f'+{label}' in x else 0)\n",
    "\n",
    "# merge: title(high), content(high)\n",
    "data['combined_text'] = data['title'] + ' ' + data['content']\n",
    "\n",
    "print(\"Detected set of labels: \", labels)\n",
    "print(\"\\nCurrent df cols: \", list(data.columns))\n",
    "print(data.shape)"
   ]
  },
  {
   "cell_type": "code",
   "execution_count": 7,
   "id": "59c0e257-ac6e-4b5e-b778-6721c7d5e542",
   "metadata": {},
   "outputs": [
    {
     "name": "stdout",
     "output_type": "stream",
     "text": [
      "Total class weight:  147.83999999999997 %\n",
      "\n",
      " {'Fines': 7.16, 'Earn': 13.18, 'ManCh': 1.83, 'MjCtry': 27.24, 'MnA': 4.93, 'SevDis': 2.71, 'Other': 1.0, 'CreditCh': 0.48, 'Mat': 58.4, 'FinDis': 2.58, 'Fraud': 5.85, 'MjInd': 22.48}\n"
     ]
    },
    {
     "data": {
      "image/png": "[encoded data removed]",
      "text/plain": [
       "<Figure size 1800x800 with 1 Axes>"
      ]
     },
     "metadata": {},
     "output_type": "display_data"
    }
   ],
   "source": [
    "def get_class_weight(data):\n",
    "    class_weight = {}\n",
    "    for num,col in enumerate(y_cols):\n",
    "        if num not in class_weight:\n",
    "            class_weight[col] = round((data[data[col] == 1][col].sum())/data.shape[0]*100,2)\n",
    "    return class_weight\n",
    "    \n",
    "y_cols = labels \n",
    "class_weight = get_class_weight(data)\n",
    "print('Total class weight: ', sum(class_weight.values()), '%\\n\\n', class_weight)\n",
    "\n",
    "#seaborn\n",
    "label_counts = data[y_cols].sum().sort_values(ascending=False)\n",
    "\n",
    "#barplot\n",
    "plt.figure(figsize=[18, 8])\n",
    "plot = sns.barplot(x=label_counts.index, y=label_counts.values, hue=label_counts.index, palette='inferno', legend=False)\n",
    "\n",
    "# annotate count on top of bars\n",
    "for p in plot.patches:\n",
    "    plot.annotate(format(p.get_height(), '.2f'),\n",
    "                  (p.get_x() + p.get_width() / 2., p.get_height()),\n",
    "                  ha='center', va='center', xytext=(0, 10), textcoords='offset points')\n",
    "\n",
    "plt.title('Label Frequency Distribution', fontdict={'fontsize': 20, 'fontweight': 5, 'color': 'Green'})\n",
    "plt.xlabel('Labels', fontsize=14)\n",
    "plt.ylabel('Count', fontsize=14)\n",
    "plt.xticks(rotation=45)\n",
    "plt.show()"
   ]
  },
  {
   "cell_type": "markdown",
   "id": "3915dce1-6ff7-44ec-9807-ee50cef8c555",
   "metadata": {},
   "source": [
    "#### Observation made above:\n",
    "1. can see that the data is highly imbalanced. Imbalanced data refers to classification problems where the classes are not represented equally for e.g., of 58.4% combined_text are classified under the ‘Mat’ label."
   ]
  },
  {
   "cell_type": "markdown",
   "id": "1a2c58c5-bd7e-429f-874d-c7c0e6071268",
   "metadata": {},
   "source": [
    "#### Handling imbalance on Labels (class_weight='balanced' in Logistic Regression and SVM models later):\n",
    "1. give higher weight to classes that have fewer positive examples, using this\n",
    "$$\n",
    "\\text{weight}_i = \\frac{\\text{total instances}}{\\text{number of classes} \\times \\text{positive instances}_i}\n",
    "$$"
   ]
  },
  {
   "cell_type": "markdown",
   "id": "bf92971b-4055-4d1c-a3a9-c8df421952e7",
   "metadata": {},
   "source": [
    "### 2. Split data into train, test, validation"
   ]
  },
  {
   "cell_type": "markdown",
   "id": "bdbd6a51-00b8-4799-b827-da77e4b66b89",
   "metadata": {},
   "source": [
    "Steps taken here:\n",
    "1. train-test split: 80/20."
   ]
  },
  {
   "cell_type": "code",
   "execution_count": 5,
   "id": "23bc1493-6537-4494-84c1-58259f11f151",
   "metadata": {},
   "outputs": [
    {
     "name": "stdout",
     "output_type": "stream",
     "text": [
      "X_train shape (1832,) \n",
      "y_train shape (1832, 12) \n",
      "X_test shape (459,) \n",
      "y_test shape (459, 12)\n"
     ]
    }
   ],
   "source": [
    "def get_train_test(data):\n",
    "    X_data = data['combined_text'].values\n",
    "    y_data = data[list(data.columns[-13:-1])].values\n",
    "    \n",
    "    # Split the data into training and testing sets\n",
    "    X_train, X_test, y_train, y_test = train_test_split(X_data, y_data, test_size=0.2, random_state=42)\n",
    "    \n",
    "    # Print the shapes of the train and test sets\n",
    "    print(\n",
    "        'X_train shape', X_train.shape,\n",
    "        '\\ny_train shape', y_train.shape,\n",
    "        '\\nX_test shape', X_test.shape,\n",
    "        '\\ny_test shape', y_test.shape,\n",
    "    )\n",
    "    return X_train, X_test, y_train, y_test\n",
    "\n",
    "# Call the function and get the train and test data\n",
    "X_train, X_test, y_train, y_test = get_train_test(data)\n",
    "\n",
    "# Uncomment to print the first few lines if needed\n",
    "# print(\"\\nFirst few lines of X_train:\", X_train[:2])\n",
    "# print(\"\\nFirst few lines of X_test:\", X_test[:2])\n",
    "# print(\"\\nFirst few lines of y_train:\", y_train[:2])\n",
    "# print(\"\\nFirst few lines of y_test:\", y_test[:2])"
   ]
  },
  {
   "cell_type": "markdown",
   "id": "60227468-8ba6-4d6e-b302-866354ceb01f",
   "metadata": {},
   "source": [
    "### 3. Text preprocessing"
   ]
  },
  {
   "cell_type": "code",
   "execution_count": 11,
   "id": "757f9c95-d34d-406c-9733-dcc3fa3b4490",
   "metadata": {},
   "outputs": [
    {
     "name": "stderr",
     "output_type": "stream",
     "text": [
      "[nltk_data] Downloading package stopwords to\n",
      "[nltk_data]     /Users/hojinwei/nltk_data...\n",
      "[nltk_data]   Package stopwords is already up-to-date!\n",
      "[nltk_data] Downloading package punkt to /Users/hojinwei/nltk_data...\n",
      "[nltk_data]   Package punkt is already up-to-date!\n"
     ]
    }
   ],
   "source": [
    "import numpy as np\n",
    "import nltk\n",
    "nltk.download('stopwords')\n",
    "from nltk.corpus import stopwords\n",
    "nltk.download('punkt')\n",
    "import re\n",
    "from nltk.stem import PorterStemmer\n",
    "ps = PorterStemmer()"
   ]
  },
  {
   "cell_type": "markdown",
   "id": "f046e327-7c4b-4373-8c5c-4976658d70b5",
   "metadata": {},
   "source": [
    "Steps taken here: lexical analysis, stemming and etc.\n",
    "1. lowercase for standardisation.\n",
    "2. remove ip address as low impact and also let not 'http...' etc., affect the vocab rank later.\n",
    "3. replace problematic characters with spaces to avoids merging words unintentionally.\n",
    "4. removes unwanted symbols except letters, numbers, #, +, _. Reason being sometimes hastag# could be a social media post's tagging."
   ]
  },
  {
   "cell_type": "code",
   "execution_count": 12,
   "id": "e7e10c2f-be1e-437e-bf95-5240e7a67d9e",
   "metadata": {},
   "outputs": [
    {
     "name": "stdout",
     "output_type": "stream",
     "text": [
      "\n",
      "Original Text (~600 chars): Banks and Earnings Power European Shares LONDON — European shares rose in early trade on Wednesday as French lender Credit Agricole led banking stocks higher and earnings provided a boost.\n",
      "\n",
      "The pan-European STOXX 600 index was up 0.3 percent in early trade with the European banking index the top-gaining sector, up 1.2 percent.\n",
      "\n",
      "Shares in Credit Agricole jumped 3.2 percent after France's biggest retail bank beat forecasts with a smaller than expected earnings drop in the fourth quarter.\n",
      "\n",
      "Banking stocks were also helped by hawkish rhetoric from U.S. Federal Reserve Chair Janet Yellen on Tuesday,\n"
     ]
    }
   ],
   "source": [
    "REPLACE_BY_SPACE_RE = re.compile(r'[/(){}\\[\\]\\|@,;]')  \n",
    "BAD_SYMBOLS_RE = re.compile(r'[^0-9a-z #+_]')          \n",
    "STOPWORDS = set(stopwords.words('english'))\n",
    "REPLACE_IP_ADDRESS = re.compile(r'\\b(?:[0-9]{1,3}\\.){3}[0-9]{1,3}\\b') \n",
    "\n",
    "def text_prepare(text):\n",
    "    \"\"\"\n",
    "        text: a string\n",
    "        \n",
    "        return: modified initial string\n",
    "    \"\"\"\n",
    "    text = text.replace('\\n', ' ').lower()\n",
    "    text = REPLACE_IP_ADDRESS.sub('', text)\n",
    "    text = REPLACE_BY_SPACE_RE.sub(' ',text)\n",
    "    text = BAD_SYMBOLS_RE.sub('',text)\n",
    "    text = ' '.join([ps.stem(w) for w in text.split() if w not in STOPWORDS])\n",
    "    return text\n",
    "\n",
    "print(\"\\nOriginal Text (~600 chars):\", X_train[:1][0][:600])\n",
    "X_train_bag_tfidf = [text_prepare(x) for x in X_train]"
   ]
  },
  {
   "cell_type": "code",
   "execution_count": 13,
   "id": "a99fc393-9fe9-47a2-aaee-971f3d4dda1d",
   "metadata": {},
   "outputs": [
    {
     "name": "stdout",
     "output_type": "stream",
     "text": [
      "\n",
      "Processed Text (~600 chars): bank earn power european share london european share rose earli trade wednesday french lender credit agricol led bank stock higher earn provid boost paneuropean stoxx 600 index 03 percent earli trade european bank index topgain sector 12 percent share credit agricol jump 32 percent franc biggest retail bank beat forecast smaller expect earn drop fourth quarter bank stock also help hawkish rhetor us feder reserv chair janet yellen tuesday said feder reserv like need rais interest rate upcom meet low interest rate put pressur bank margin case europ earn also fuell move higher finnish packag make\n"
     ]
    }
   ],
   "source": [
    "# peek first 100 chars of 1st element\n",
    "print(\"\\nProcessed Text (~600 chars):\", X_train_bag_tfidf[:1][0][:600])"
   ]
  },
  {
   "cell_type": "markdown",
   "id": "a9e7daf7-47c3-4840-929a-779b8c3ee03c",
   "metadata": {},
   "source": [
    "## 2. Feature Extraction"
   ]
  },
  {
   "cell_type": "markdown",
   "id": "c2f7d676-2345-44aa-b6fe-ec6487fd34bd",
   "metadata": {},
   "source": [
    "### 1. Bag-of-Words (BoW)"
   ]
  },
  {
   "cell_type": "code",
   "execution_count": 14,
   "id": "09b279b7-1873-403e-b833-3f8e8a5c9360",
   "metadata": {},
   "outputs": [],
   "source": [
    "# dictionary of all words from train corpus with their counts.\n",
    "words_counts = {}\n",
    "for comments in X_train_bag_tfidf:\n",
    "    for word in comments.split():\n",
    "        if word not in words_counts:\n",
    "            words_counts[word] = 1\n",
    "        words_counts[word] += 1\n",
    "        \n",
    "DICT_SIZE = 10000\n",
    "POPULAR_WORDS = sorted(words_counts, key=words_counts.get, reverse=True)[:DICT_SIZE]\n",
    "WORDS_TO_INDEX = {key: rank for rank, key in enumerate(POPULAR_WORDS, 0)}\n",
    "INDEX_TO_WORDS = {index:word for word, index in WORDS_TO_INDEX.items()}\n",
    "ALL_WORDS = WORDS_TO_INDEX.keys()"
   ]
  },
  {
   "cell_type": "code",
   "execution_count": 15,
   "id": "c4ad04de-d72d-4871-8ec0-f74a60322d3c",
   "metadata": {},
   "outputs": [
    {
     "name": "stdout",
     "output_type": "stream",
     "text": [
      "X_train_mybag: (1832, 10000), X_test_mybag: (459, 10000)\n"
     ]
    }
   ],
   "source": [
    "def my_bag_of_words(text, words_to_index, dict_size):\n",
    "    \"\"\"\n",
    "        text: a string\n",
    "        dict_size: size of the dictionary\n",
    "        \n",
    "        return a vector which is a bag-of-words representation of 'text'\n",
    "    \"\"\"\n",
    "    result_vector = np.zeros(dict_size)\n",
    "    for word in text.split(' '):\n",
    "        if word in words_to_index:\n",
    "            result_vector[words_to_index[word]] += 1\n",
    "    return result_vector\n",
    "\n",
    "X_train_mybag = sp_sparse.vstack([sp_sparse.csr_matrix(my_bag_of_words(text, WORDS_TO_INDEX, DICT_SIZE)) for text in X_train_bag_tfidf])\n",
    "X_test_mybag = sp_sparse.vstack([sp_sparse.csr_matrix(my_bag_of_words(text, WORDS_TO_INDEX, DICT_SIZE)) for text in X_test])\n",
    "\n",
    "print(f\"X_train_mybag: {X_train_mybag.shape}, X_test_mybag: {X_test_mybag.shape}\")"
   ]
  },
  {
   "cell_type": "code",
   "execution_count": 49,
   "id": "26abbb69-51ec-4050-97d5-a2db21c99307",
   "metadata": {},
   "outputs": [
    {
     "data": {
      "text/plain": [
       "['said',\n",
       " 'percent',\n",
       " 'year',\n",
       " 'us',\n",
       " 'compani',\n",
       " 'market',\n",
       " 'trump',\n",
       " 'new',\n",
       " 'one',\n",
       " 'also']"
      ]
     },
     "execution_count": 49,
     "metadata": {},
     "output_type": "execute_result"
    }
   ],
   "source": [
    "POPULAR_WORDS[:10]"
   ]
  },
  {
   "cell_type": "markdown",
   "id": "93830a86-c829-4eb8-b511-60fc7f932411",
   "metadata": {},
   "source": [
    "### 2. TD-IDF"
   ]
  },
  {
   "cell_type": "code",
   "execution_count": 16,
   "id": "10343fa1-cc90-4cd2-867e-94fe3e3e988c",
   "metadata": {},
   "outputs": [
    {
     "name": "stdout",
     "output_type": "stream",
     "text": [
      "X_train: (1832, 16190), X_test: (459, 16190)\n"
     ]
    }
   ],
   "source": [
    "def tfidf_features(X_train, X_test):\n",
    "    \"\"\"\n",
    "        X_train, X_test — samples        \n",
    "        return TF-IDF vectorized representation of each sample and vocabulary\n",
    "    \"\"\"\n",
    "    # Create TF-IDF vectorizer with a proper parameters choice\n",
    "    tfidf_vectorizer = TfidfVectorizer(ngram_range=(1,2), max_df=0.9, min_df=5)\n",
    "    X_train_tfidf = tfidf_vectorizer.fit_transform(X_train)\n",
    "    X_test_tfidf = tfidf_vectorizer.transform(X_test)\n",
    "    \n",
    "    return X_train_tfidf, X_test_tfidf, tfidf_vectorizer\n",
    "\n",
    "# apply TF-IDF feature extraction to datasets and verify\n",
    "X_train_tfidf, X_test_tfidf, tfidf_vectorizer = tfidf_features(X_train_bag_tfidf, X_test)\n",
    "print(f\"X_train: {X_train_tfidf.shape}, X_test: {X_test_tfidf.shape}\")"
   ]
  },
  {
   "cell_type": "markdown",
   "id": "0bba23ed-5436-4c21-b30a-285206976aee",
   "metadata": {},
   "source": [
    "## 3. Model Selection and Training"
   ]
  },
  {
   "cell_type": "markdown",
   "id": "fe3a32f1-bfad-4635-9002-f4a090c8b609",
   "metadata": {},
   "source": [
    "### 1. Bow + logistic reg\n",
    "### 2. Tdidf + logistic reg"
   ]
  },
  {
   "cell_type": "code",
   "execution_count": 17,
   "id": "83ffdc75-edf3-48cb-a0bd-9fb061e8818f",
   "metadata": {},
   "outputs": [
    {
     "name": "stdout",
     "output_type": "stream",
     "text": [
      "Training classifiers with Bag-of-Words and TF-IDF features...\n",
      "Generating predictions for the test set...\n",
      "done\n"
     ]
    }
   ],
   "source": [
    "def train_classifier(X_train, y_train, C, regularisation):\n",
    "    \"\"\"\n",
    "      X_train, y_train — training data\n",
    "      return: trained classifier\n",
    "    \"\"\"\n",
    "    model = OneVsRestClassifier(LogisticRegression(penalty=regularisation, C=C, max_iter=10000, class_weight='balanced')).fit(X_train, y_train)\n",
    "    return model\n",
    "\n",
    "print(\"Training classifiers with Bag-of-Words and TF-IDF features...\")\n",
    "classifier_mybag = train_classifier(X_train_mybag, y_train, C=4, regularisation='l2')\n",
    "classifier_tfidf = train_classifier(X_train_tfidf, y_train, C=4, regularisation='l2')\n",
    "\n",
    "print(\"Generating predictions for the test set...\")\n",
    "y_test_predicted_labels_mybag = classifier_mybag.predict(X_test_mybag)\n",
    "y_test_predicted_labels_tfidf = classifier_tfidf.predict(X_test_tfidf)\n",
    "\n",
    "print(\"done\")"
   ]
  },
  {
   "cell_type": "markdown",
   "id": "11d9f624-bcb1-48ea-b2f0-a59ca2bc1a90",
   "metadata": {},
   "source": [
    "### 3. spaCy (en_core_web_lg)"
   ]
  },
  {
   "cell_type": "code",
   "execution_count": 18,
   "id": "47297bfc-13c0-4df1-b0dd-4dd259e3be8b",
   "metadata": {},
   "outputs": [
    {
     "name": "stdout",
     "output_type": "stream",
     "text": [
      "Loading spaCy model with word vectors...\n",
      "Training SVM model with RBF kernel using GridSearchCV...\n",
      "Best Parameters found: {'estimator__C': 10, 'estimator__gamma': 'auto'}\n",
      "Evaluating on test set (final evaluation)...\n",
      "X_train: (1832, 300), X_test: (459, 300)\n",
      "Done.\n"
     ]
    }
   ],
   "source": [
    "print(\"Loading spaCy model with word vectors...\")\n",
    "nlp = spacy.load(\"en_core_web_lg\")\n",
    "\n",
    "def spacy_word2vec(text_data):\n",
    "    \"\"\"\n",
    "    Convert list of text data into Word2Vec embeddings using spaCy\n",
    "    text_data: List of sentences or documents\n",
    "    return: numpy array of word embeddings\n",
    "    \"\"\"\n",
    "    embeddings = []\n",
    "    for doc in text_data:\n",
    "        # Use spaCy's built-in vector representation for each document\n",
    "        doc_vector = nlp(doc).vector\n",
    "        embeddings.append(doc_vector)\n",
    "    return np.array(embeddings)\n",
    "\n",
    "# Prepare embeddings for the train, and test sets\n",
    "X_train_spacy = spacy_word2vec(X_train)\n",
    "X_test_spacy = spacy_word2vec(X_test)\n",
    "\n",
    "# SVM model with RBF kernel\n",
    "svm_model_rbf_spacy = SVC(kernel='rbf', class_weight='balanced')\n",
    "\n",
    "# define parameters for GridSearchCV\n",
    "param_grid = {'estimator__C': [0.1, 1, 10], 'estimator__gamma': ['scale', 'auto']}\n",
    "grid_search = GridSearchCV(OneVsRestClassifier(svm_model_rbf_spacy), param_grid, cv=3)\n",
    "\n",
    "print(\"Training SVM model with RBF kernel using GridSearchCV...\")\n",
    "grid_search.fit(X_train_spacy, y_train)\n",
    "\n",
    "# store the best found model\n",
    "best_svm_model_rbf_spacy = grid_search.best_estimator_\n",
    "\n",
    "# check if best model is fitted\n",
    "print(\"Best Parameters found:\", grid_search.best_params_)\n",
    "\n",
    "print(\"Evaluating on test set (final evaluation)...\")\n",
    "y_test_predicted_spacy_rbf = best_svm_model_rbf_spacy.predict(X_test_spacy)\n",
    "print(f\"X_train: {X_train_spacy.shape}, X_test: {X_test_spacy.shape}\")\n",
    "\n",
    "print(\"Done.\")"
   ]
  },
  {
   "cell_type": "markdown",
   "id": "a5597137-dea2-4bfb-b606-9983b36b94db",
   "metadata": {},
   "source": [
    "### 4. Universal sentence encoder (USE) + Support vectOr machine (SVM)\n",
    "1. takes X_train instead of the manual feature extraction done for BoW, Tdidf, so as to retain word's meaning."
   ]
  },
  {
   "cell_type": "code",
   "execution_count": 19,
   "id": "30dce99f-f06d-4a3d-81b7-01b2d413772d",
   "metadata": {},
   "outputs": [
    {
     "name": "stdout",
     "output_type": "stream",
     "text": [
      "Loading Universal Sentence Encoder (USE) model...\n",
      "Training SVM model with RBF kernel using GridSearchCV...\n",
      "Best Parameters found: {'estimator__C': 10, 'estimator__gamma': 'scale'}\n",
      "Evaluating on test set (final evaluation)...\n",
      "X_train: (1832, 512), X_test: (459, 512)\n",
      "Done.\n"
     ]
    }
   ],
   "source": [
    "print(\"Loading Universal Sentence Encoder (USE) model...\")\n",
    "use_model = hub.load(\"https://tfhub.dev/google/universal-sentence-encoder/4\")\n",
    "\n",
    "# embed text data using USE\n",
    "def embed_text(text_data):\n",
    "    return use_model(text_data).numpy()\n",
    "\n",
    "X_train_use = embed_text(X_train)\n",
    "X_test_use = embed_text(X_test)\n",
    "\n",
    "# SVM model with RBF kernel\n",
    "svm_rbf = SVC(kernel='rbf', class_weight='balanced')\n",
    "\n",
    "# define parameters for GridSearchCV\n",
    "param_grid = {'estimator__C': [0.1, 1, 10], 'estimator__gamma': ['scale', 'auto']}\n",
    "grid_search = GridSearchCV(OneVsRestClassifier(svm_rbf), param_grid, cv=3)\n",
    "\n",
    "print(\"Training SVM model with RBF kernel using GridSearchCV...\")\n",
    "grid_search.fit(X_train_use, y_train)\n",
    "\n",
    "# store the best found model\n",
    "best_svm_model_rbf = grid_search.best_estimator_\n",
    "\n",
    "# check if best model is fitted\n",
    "print(\"Best Parameters found:\", grid_search.best_params_)\n",
    "\n",
    "print(\"Evaluating on test set (final evaluation)...\")\n",
    "y_test_predicted_use_rbf = best_svm_model_rbf.predict(X_test_use)\n",
    "\n",
    "print(f\"X_train: {X_train_use.shape}, X_test: {X_test_use.shape}\")\n",
    "print(\"Done.\")"
   ]
  },
  {
   "cell_type": "markdown",
   "id": "34c1e5eb-013e-49bf-a95a-8aa5be83ce2d",
   "metadata": {},
   "source": [
    "### 5. BERT + BiLSTM"
   ]
  },
  {
   "cell_type": "markdown",
   "id": "ba294124-7b40-4cc2-888e-b439732b4750",
   "metadata": {},
   "source": [
    "#### 1. Preparing BERT Embeddings"
   ]
  },
  {
   "cell_type": "code",
   "execution_count": 13,
   "id": "09955453-fb50-4bd5-83c0-057bed60a001",
   "metadata": {},
   "outputs": [],
   "source": [
    "device = torch.device('mps' if torch.backends.mps.is_available() else 'cpu')"
   ]
  },
  {
   "cell_type": "code",
   "execution_count": 86,
   "id": "4ba1cfba-1ae3-460a-99fd-8b7fc7f2172a",
   "metadata": {},
   "outputs": [
    {
     "data": {
      "text/plain": [
       "BertModel(\n",
       "  (embeddings): BertEmbeddings(\n",
       "    (word_embeddings): Embedding(30522, 768, padding_idx=0)\n",
       "    (position_embeddings): Embedding(512, 768)\n",
       "    (token_type_embeddings): Embedding(2, 768)\n",
       "    (LayerNorm): LayerNorm((768,), eps=1e-12, elementwise_affine=True)\n",
       "    (dropout): Dropout(p=0.1, inplace=False)\n",
       "  )\n",
       "  (encoder): BertEncoder(\n",
       "    (layer): ModuleList(\n",
       "      (0-11): 12 x BertLayer(\n",
       "        (attention): BertAttention(\n",
       "          (self): BertSdpaSelfAttention(\n",
       "            (query): Linear(in_features=768, out_features=768, bias=True)\n",
       "            (key): Linear(in_features=768, out_features=768, bias=True)\n",
       "            (value): Linear(in_features=768, out_features=768, bias=True)\n",
       "            (dropout): Dropout(p=0.1, inplace=False)\n",
       "          )\n",
       "          (output): BertSelfOutput(\n",
       "            (dense): Linear(in_features=768, out_features=768, bias=True)\n",
       "            (LayerNorm): LayerNorm((768,), eps=1e-12, elementwise_affine=True)\n",
       "            (dropout): Dropout(p=0.1, inplace=False)\n",
       "          )\n",
       "        )\n",
       "        (intermediate): BertIntermediate(\n",
       "          (dense): Linear(in_features=768, out_features=3072, bias=True)\n",
       "          (intermediate_act_fn): GELUActivation()\n",
       "        )\n",
       "        (output): BertOutput(\n",
       "          (dense): Linear(in_features=3072, out_features=768, bias=True)\n",
       "          (LayerNorm): LayerNorm((768,), eps=1e-12, elementwise_affine=True)\n",
       "          (dropout): Dropout(p=0.1, inplace=False)\n",
       "        )\n",
       "      )\n",
       "    )\n",
       "  )\n",
       "  (pooler): BertPooler(\n",
       "    (dense): Linear(in_features=768, out_features=768, bias=True)\n",
       "    (activation): Tanh()\n",
       "  )\n",
       ")"
      ]
     },
     "execution_count": 86,
     "metadata": {},
     "output_type": "execute_result"
    }
   ],
   "source": [
    "from transformers import BertTokenizer, BertModel, DistilBertTokenizer, DistilBertModel\n",
    "import torch\n",
    "\n",
    "# Load pre-trained model tokenizer (vocabulary)\n",
    "tokenizer = BertTokenizer.from_pretrained('bert-base-uncased')\n",
    "#tokenizer = DistilBertTokenizer.from_pretrained('distilbert-base-cased')\n",
    "\n",
    "#Load pre-trained model\n",
    "bert_model = BertModel.from_pretrained('bert-base-uncased')\n",
    "#bert_model = DistilBertModel.from_pretrained('distilbert-base-cased')\n",
    "bert_model.eval()"
   ]
  },
  {
   "cell_type": "markdown",
   "id": "2eaec888-809c-4545-8a63-2b6ccd2e53c1",
   "metadata": {},
   "source": [
    "#### 2. Once the model is loaded, we can tokenize our input text and obtain the embeddings:"
   ]
  },
  {
   "cell_type": "code",
   "execution_count": 87,
   "id": "110c2ebe-2c86-45f2-a292-f8e1d71009d1",
   "metadata": {},
   "outputs": [],
   "source": [
    "#input_text = \"Your input text here\"\n",
    "#inputs = tokenizer(input_text, return_tensors='pt')\n",
    "#with torch.no_grad():\n",
    "#    outputs = model(**inputs)\n",
    "#    embeddings = outputs.last_hidden_state # to be used as input to LSTM later\n",
    "\n",
    "#hyperparams\n",
    "max_length = 128\n",
    "\n",
    "class TextDataset(torch.utils.data.Dataset):\n",
    "    def __init__(self, texts, labels, max_length=max_length):\n",
    "        self.texts = texts\n",
    "        self.labels = labels\n",
    "        self.max_length = max_length\n",
    "\n",
    "    def __len__(self):\n",
    "        return len(self.texts)\n",
    "\n",
    "    def __getitem__(self, idx):\n",
    "        text = self.texts[idx]\n",
    "        label = torch.tensor(self.labels[idx], dtype=torch.float32)\n",
    "        \n",
    "        # Tokenize the text using BERT tokenizer\n",
    "        encoding = tokenizer(\n",
    "            text,\n",
    "            truncation=True,\n",
    "            padding='max_length',\n",
    "            max_length=self.max_length,\n",
    "            return_tensors='pt'\n",
    "        )\n",
    "        \n",
    "        input_ids = encoding['input_ids'].squeeze(0)  # Remove the batch dimension\n",
    "        attention_mask = encoding['attention_mask'].squeeze(0)\n",
    "        \n",
    "        return input_ids, attention_mask, label\n",
    "\n",
    "# Prepare datasets for training and testing\n",
    "train_dataset = TextDataset(X_train, y_train)\n",
    "test_dataset = TextDataset(X_test, y_test)\n",
    "\n",
    "# hyperparams\n",
    "batch_size = 16\n",
    "\n",
    "# DataLoaders to handle batches of data\n",
    "train_loader = torch.utils.data.DataLoader(train_dataset, batch_size=batch_size, shuffle=True)\n",
    "test_loader = torch.utils.data.DataLoader(test_dataset, batch_size=batch_size, shuffle=False)"
   ]
  },
  {
   "cell_type": "markdown",
   "id": "03ddfb5c-3d28-4b6d-9806-1656e53b66c5",
   "metadata": {},
   "source": [
    "The embeddings tensor now contains the BERT embeddings for the input text, which can be used as input to the LSTM."
   ]
  },
  {
   "cell_type": "markdown",
   "id": "530338b6-91ca-40cc-8f13-40f6591756ce",
   "metadata": {},
   "source": [
    "#### 3. Building the BiLSTM Model"
   ]
  },
  {
   "cell_type": "code",
   "execution_count": 88,
   "id": "fbb94144-52d7-40bc-b024-46936e318d82",
   "metadata": {},
   "outputs": [
    {
     "name": "stdout",
     "output_type": "stream",
     "text": [
      "(1832, 12)\n"
     ]
    }
   ],
   "source": [
    "#class LSTMModel(torch.nn.Module):\n",
    "#    def __init__(self, embedding_dim, hidden_dim, output_dim):\n",
    "#        super(LSTMModel, self).__init__()\n",
    "#        self.lstm = torch.nn.LSTM(embedding_dim, hidden_dim, batch_first=True)\n",
    "#        self.fc = torch.nn.Linear(hidden_dim, output_dim)\n",
    "\n",
    "#    def forward(self, x):\n",
    "#        lstm_out, _ = self.lstm(x)\n",
    "#        out = self.fc(lstm_out[:, -1, :])  # Get the last time step output\n",
    "#        return out\n",
    "\n",
    "# hyperparams\n",
    "bidirectional_flag = True\n",
    "num_layers_lstm = 1\n",
    "drop_out = 0.2\n",
    "\n",
    "class LSTMModel(torch.nn.Module):\n",
    "    def __init__(self, embedding_dim, hidden_dim, output_dim, num_layers=num_layers_lstm, bidirectional=bidirectional_flag, dropout=drop_out):\n",
    "        super(LSTMModel, self).__init__()\n",
    "        self.bert = bert_model\n",
    "        self.lstm = torch.nn.LSTM(embedding_dim, hidden_dim, num_layers, bidirectional=bidirectional, batch_first=True)\n",
    "        self.fc = torch.nn.Linear(hidden_dim * 2 if bidirectional else hidden_dim, output_dim)\n",
    "        self.sigmoid = torch.nn.Sigmoid()\n",
    "\n",
    "    def forward(self, input_ids, attention_mask):\n",
    "        with torch.no_grad():\n",
    "            bert_outputs = self.bert(input_ids=input_ids, attention_mask=attention_mask)\n",
    "            bert_embeddings = bert_outputs.last_hidden_state  # (batch_size, seq_len, embedding_dim)\n",
    "        \n",
    "        lstm_out, _ = self.lstm(bert_embeddings)  # (batch_size, seq_len, hidden_dim)\n",
    "        lstm_out = lstm_out[:, -1, :]  # Last hidden state\n",
    "        output = self.fc(lstm_out)\n",
    "        return self.sigmoid(output)\n",
    "\n",
    "print(y_train.shape)"
   ]
  },
  {
   "cell_type": "markdown",
   "id": "117731d0-5ab3-49df-85a9-dc6019e6ffda",
   "metadata": {},
   "source": [
    "In this model, the LSTM processes the sequence of BERT embeddings, and the final output is passed through a fully connected layer to produce the desired output."
   ]
  },
  {
   "cell_type": "markdown",
   "id": "4694415c-8b7f-498e-86bb-6077d17b5a49",
   "metadata": {},
   "source": [
    "#### 4. Training the Model"
   ]
  },
  {
   "cell_type": "code",
   "execution_count": 24,
   "id": "d8fd9e0c-ccc2-4cd1-8bda-738435b01d18",
   "metadata": {},
   "outputs": [
    {
     "name": "stdout",
     "output_type": "stream",
     "text": [
      "Epoch 1/5, Loss: 0.6617134213447571\n",
      "Epoch 2/5, Loss: 0.3501274585723877\n",
      "Epoch 3/5, Loss: 0.1853526532649994\n",
      "Epoch 4/5, Loss: 0.10620231926441193\n",
      "Epoch 5/5, Loss: 0.06696159392595291\n"
     ]
    }
   ],
   "source": [
    "# Hyperparameters\n",
    "#embedding_dim = 768  # BERT output size\n",
    "#hidden_dim = 128\n",
    "#output_dim = 1  # For binary classification\n",
    "#num_epochs = 5\n",
    "\n",
    "#model = LSTMModel(embedding_dim, hidden_dim, output_dim)\n",
    "#criterion = torch.nn.BCEWithLogitsLoss() # use BCE because got 12 output labels aka binary cross entropy\n",
    "#optimizer = torch.optim.Adam(model.parameters(), lr=0.001)\n",
    "\n",
    "# Example labels (for binary classification, you can replace it with actual labels)\n",
    "#labels = torch.tensor([1.0])  # Example label for binary classification\n",
    "# Reshape the labels to match the model output size [1, 1]\n",
    "#labels = labels.unsqueeze(1)\n",
    "                      \n",
    "# Training loop\n",
    "#for epoch in range(num_epochs):\n",
    "#    model.train()\n",
    "#    optimizer.zero_grad()\n",
    "#    outputs = model(embeddings) # Forward pass\n",
    "#    loss = criterion(outputs, labels)\n",
    "#    loss.backward()\n",
    "#    optimizer.step() # Update model parameters\n",
    "\n",
    "#    print(f'Epoch {epoch+1}/{num_epochs}, Loss: {loss.item()}')"
   ]
  },
  {
   "cell_type": "code",
   "execution_count": null,
   "id": "a86070c9-c87f-4856-9d55-e4e90d236eea",
   "metadata": {},
   "outputs": [
    {
     "name": "stdout",
     "output_type": "stream",
     "text": [
      "running epoch for BiLSTM...\n",
      "Epoch 1/200, Loss: 0.6939765261567157\n",
      "Epoch 2/200, Loss: 0.6863053197446076\n",
      "Epoch 3/200, Loss: 0.6851662454397782\n"
     ]
    }
   ],
   "source": [
    "# hyperparams\n",
    "embedding_dim = 768  # BERT output size\n",
    "hidden_dim = 128\n",
    "output_dim = y_train.shape[1]  # For multi-label classification (12 labels)\n",
    "num_epochs = 200 # can put more epoch to hit lower loss, if have higher computational power for faster\n",
    "learning_rate = 0.01\n",
    "\n",
    "model = LSTMModel(embedding_dim, hidden_dim, output_dim).to('mps')\n",
    "\n",
    "criterion = torch.nn.BCEWithLogitsLoss() # use BCE because got 12 output labels aka binary cross entropy\n",
    "optimizer = torch.optim.Adam(model.parameters(), lr=learning_rate)\n",
    "\n",
    "device = torch.device('mps' if torch.backends.mps.is_available() else 'cpu')\n",
    "model = model.to(device)\n",
    "\n",
    "from torch.cuda.amp import autocast, GradScaler\n",
    "\n",
    "scaler = GradScaler()  # For handling scaled gradients during AMP\n",
    "\n",
    "print(\"running epoch for BiLSTM...\")\n",
    "for epoch in range(num_epochs):\n",
    "    model.train()\n",
    "    running_loss = 0.0\n",
    "    \n",
    "    for input_ids, attention_mask, labels in train_loader:\n",
    "        input_ids = input_ids.to(device)\n",
    "        attention_mask = attention_mask.to(device)\n",
    "        labels = labels.to(device)\n",
    "            \n",
    "        optimizer.zero_grad()\n",
    "        outputs = model(input_ids, attention_mask)\n",
    "        loss = criterion(outputs, labels)\n",
    "        loss.backward()\n",
    "        optimizer.step()\n",
    "        \n",
    "        running_loss += loss.item()\n",
    "    print(f'Epoch {epoch+1}/{num_epochs}, Loss: {running_loss/len(train_loader)}')"
   ]
  },
  {
   "cell_type": "code",
   "execution_count": 54,
   "id": "7a7091a5-f3f1-44cf-8406-fa3b9527f103",
   "metadata": {},
   "outputs": [],
   "source": [
    "def evaluate_model(model, test_loader):\n",
    "    model.eval()\n",
    "    all_preds = []\n",
    "    all_labels = []\n",
    "    \n",
    "    with torch.no_grad():\n",
    "        for input_ids, attention_mask, labels in test_loader:\n",
    "            input_ids = input_ids.to(device)\n",
    "            attention_mask = attention_mask.to(device)\n",
    "            labels = labels.to(device)\n",
    "            \n",
    "            outputs = model(input_ids, attention_mask)\n",
    "            preds = (outputs > 0.5).float()  # Convert to binary predictions\n",
    "            \n",
    "            all_preds.append(preds.cpu().numpy())\n",
    "            all_labels.append(labels.cpu().numpy())\n",
    "    \n",
    "    return all_preds, all_labels"
   ]
  },
  {
   "cell_type": "code",
   "execution_count": null,
   "id": "24c3724e-36d0-478a-b4dd-2a5db9a09302",
   "metadata": {},
   "outputs": [],
   "source": [
    "all_preds, all_labels = evaluate_model(model, test_loader)\n",
    "\n",
    "# Flatten the lists to compute metrics for the entire dataset\n",
    "all_preds = np.concatenate(all_preds, axis=0)\n",
    "all_labels = np.concatenate(all_labels, axis=0)\n",
    "\n",
    "def print_evaluation_scores(y_test, predicted):\n",
    "    print(f\"Accuracy: {accuracy_score(y_test, predicted):.4f}\")\n",
    "    print(f\"F1-score macro: {f1_score(y_test, predicted, average='macro'):.4f}\")\n",
    "    print(f\"F1-score micro: {f1_score(y_test, predicted, average='micro'):.4f}\")\n",
    "    print(f\"F1-score weighted: {f1_score(y_test, predicted, average='weighted'):.4f}\")\n",
    "    print(f\"Precision macro: {average_precision_score(y_test, predicted, average='macro'):.4f}\")\n",
    "    print(f\"Precision micro: {average_precision_score(y_test, predicted, average='micro'):.4f}\")\n",
    "    print(f\"Precision weighted: {average_precision_score(y_test, predicted, average='weighted'):.4f}\")\n",
    "\n",
    "print('\\nBERT + BiLSTM (Test Set)\\n')\n",
    "print_evaluation_scores(all_labels, all_preds)"
   ]
  },
  {
   "cell_type": "markdown",
   "id": "ba4a6ffb-9381-4051-9900-91840bfeea76",
   "metadata": {},
   "source": [
    "## Prediction and EvaluatiOn"
   ]
  },
  {
   "cell_type": "markdown",
   "id": "05a93a50-7a1e-4b78-9cd8-13767da79726",
   "metadata": {},
   "source": [
    "#### Presenting to business manager:\n",
    "Accuracy: Tells us how often the model is right overall, but it doesn’t always show the full picture in the case of one tagging(category) is much more common than others.\n",
    "\n",
    "F1-score macro: Looks at each category equally and checks how well the model balances being right about the \"positive\" predictions for each one.\n",
    "\n",
    "F1-score micro: Focuses more on categories that appear a lot, showing how well the model performs for the most frequent items.\n",
    "\n",
    "F1-score weighted: Combines both approaches, giving a balanced score that takes into account how often each category shows up, giving us a clearer overall performance.\n",
    "\n",
    "Precision macro: Measures how often the model’s positive guesses are correct, treating all categories equally, even the less frequent ones.\n",
    "\n",
    "Precision micro: Concentrates on the overall quality of the model’s positive guesses, paying more attention to common categories.\n",
    "\n",
    "Precision weighted: Combines the model’s precision across all categories, while also accounting for how often each one appears, providing a more balanced view."
   ]
  },
  {
   "cell_type": "code",
   "execution_count": 20,
   "id": "b12e03e4-700d-491e-8434-a417d2969d5c",
   "metadata": {},
   "outputs": [
    {
     "name": "stdout",
     "output_type": "stream",
     "text": [
      "Evaluating models...\n",
      "BoW + Logistic Regression (Test Set)\n",
      "\n",
      "Accuracy: 0.3682\n",
      "F1-score macro: 0.1651\n",
      "F1-score micro: 0.3534\n",
      "F1-score weighted: 0.3200\n",
      "Precision macro: 0.1755\n",
      "Precision micro: 0.2632\n",
      "Precision weighted: 0.4231\n",
      "\n",
      "TF-IDF + Logistic Regression (Test Set)\n",
      "\n",
      "Accuracy: 0.4815\n",
      "F1-score macro: 0.4837\n",
      "F1-score micro: 0.6522\n",
      "F1-score weighted: 0.6377\n",
      "Precision macro: 0.3637\n",
      "Precision micro: 0.5026\n",
      "Precision weighted: 0.5812\n",
      "\n",
      "SpaCy + SVM (Test Set)\n",
      "\n",
      "Accuracy: 0.4139\n",
      "F1-score macro: 0.5781\n",
      "F1-score micro: 0.7018\n",
      "F1-score weighted: 0.7164\n",
      "Precision macro: 0.4031\n",
      "Precision micro: 0.5255\n",
      "Precision weighted: 0.6009\n",
      "\n",
      "USE + SVM (Test Set)\n",
      "\n",
      "Accuracy: 0.6122\n",
      "F1-score macro: 0.6570\n",
      "F1-score micro: 0.7843\n",
      "F1-score weighted: 0.7790\n",
      "Precision macro: 0.5007\n",
      "Precision micro: 0.6460\n",
      "Precision weighted: 0.6803\n",
      "\n",
      "Process completed.\n"
     ]
    }
   ],
   "source": [
    "def print_evaluation_scores(y_test, predicted):\n",
    "    print(f\"Accuracy: {accuracy_score(y_test, predicted):.4f}\")\n",
    "    print(f\"F1-score macro: {f1_score(y_test, predicted, average='macro'):.4f}\")\n",
    "    print(f\"F1-score micro: {f1_score(y_test, predicted, average='micro'):.4f}\")\n",
    "    print(f\"F1-score weighted: {f1_score(y_test, predicted, average='weighted'):.4f}\")\n",
    "    print(f\"Precision macro: {average_precision_score(y_test, predicted, average='macro'):.4f}\")\n",
    "    print(f\"Precision micro: {average_precision_score(y_test, predicted, average='micro'):.4f}\")\n",
    "    print(f\"Precision weighted: {average_precision_score(y_test, predicted, average='weighted'):.4f}\")\n",
    "\n",
    "print('Evaluating models...')\n",
    "print('BoW + Logistic Regression (Test Set)\\n')\n",
    "print_evaluation_scores(y_test, y_test_predicted_labels_mybag)\n",
    "\n",
    "print('\\nTF-IDF + Logistic Regression (Test Set)\\n')\n",
    "print_evaluation_scores(y_test, y_test_predicted_labels_tfidf)\n",
    "\n",
    "print('\\nSpaCy + SVM (Test Set)\\n')\n",
    "print_evaluation_scores(y_test, y_test_predicted_spacy_rbf)\n",
    "\n",
    "print('\\nUSE + SVM (Test Set)\\n')\n",
    "print_evaluation_scores(y_test, y_test_predicted_use_rbf)\n",
    "\n",
    "print(\"\\nProcess completed.\")"
   ]
  },
  {
   "cell_type": "markdown",
   "id": "164fb03d-4c22-4107-a87c-23267a0b58da",
   "metadata": {},
   "source": [
    "## Reasoning based on intuition and observation on Methods (Feature Extraction + MOdels):\n",
    "### Comparing BoW vs TF-IDF:\n",
    "1. Reason for + Model: BoW and TF-IDF result in linearly separable data, which Logistic Regression can classify effectively.\n",
    "2. BoW vs Tfidf (similar): Both BoW and Tfidf have high dimensionality and lack word embeddings, meaning no understanding of words.\n",
    "3. BoW vs Tfidf (difference): Tfidf reduces weights amoung common words and increases the importance of words that distinguish documents, as reflected in improvements in metrics like f1-score and precision (further refer below for comparison table).\n",
    "4. Limitations: As noted in point 2. This leads me to word/sentence embedding next: SpaCy's (_lg's) vs USE.\n",
    "\n",
    "### Comparing SpaCy aka (_lg's) vs USE:\n",
    "1. Reason for + Model: SpaCy and USE result in non-linear data due to word relationships, which SVM can classify effectively.\n",
    "2. Reason for usage: SpaCy has POS tagging, dependency parsing, and NER, whereas USE focuses on sentence-level embeddings and semantic similarity tasks.\n",
    "3. SpaCy vs USE (difference): SpaCy word-level relationships vs USE sentence-level relationships. For e.g., USE effectively handles the difference between \"I went to a bank to withdraw money\" and \"I sat by the river bank,\" where SpaCy focuses on parsing but may not resolve meaning as effectively.\n",
    "4. SpaCy vs USE (similar): Both use fixed-size representations, meaning that once we get the word or sentence embeddings, they don't adapt or fine-tune based on the article's data. This brings me to the next methods for dynamic contextual embeddings, that can adapt based on the input text: BERT + BiLSTM.\n",
    "\n",
    "### BERT + BiLSTM:\n",
    "1. Reason + model: BERT alone provides powerful representations but does not capture sequential dependencies the same way that LSTM can. Combining both retains rich contextualized information and to model dependencies across time steps. E.g., useful for order of words or phrases in the article matters.\n",
    "2. Reason foor usage: LSTM adds sequential dependecy learning BERT's contextual embeddings. It capture past and future context and the BiLSTM also processes the sequence in both left and right context of each word.\n",
    "3. UniLSTM vs BiLSTM: left to right vs both directions.\n",
    "4. Limitations: 1) training time long 2) Memory consumption high"
   ]
  },
  {
   "cell_type": "code",
   "execution_count": 78,
   "id": "de86915c-fb5a-41e4-bdb2-68e1865a989e",
   "metadata": {},
   "outputs": [
    {
     "data": {
      "text/html": [
       "<style type=\"text/css\">\n",
       "#T_81510_row0_col0, #T_81510_row0_col1, #T_81510_row0_col2, #T_81510_row0_col3, #T_81510_row0_col4, #T_81510_row0_col5, #T_81510_row1_col0, #T_81510_row1_col1, #T_81510_row1_col2, #T_81510_row1_col3, #T_81510_row1_col4, #T_81510_row1_col5, #T_81510_row2_col0, #T_81510_row2_col1, #T_81510_row2_col2, #T_81510_row2_col3, #T_81510_row2_col4, #T_81510_row2_col5 {\n",
       "  text-align: left;\n",
       "}\n",
       "</style>\n",
       "<table id=\"T_81510\">\n",
       "  <thead>\n",
       "    <tr>\n",
       "      <th class=\"blank level0\" >&nbsp;</th>\n",
       "      <th id=\"T_81510_level0_col0\" class=\"col_heading level0 col0\" >Feature</th>\n",
       "      <th id=\"T_81510_level0_col1\" class=\"col_heading level0 col1\" >BoW</th>\n",
       "      <th id=\"T_81510_level0_col2\" class=\"col_heading level0 col2\" >TF-IDF</th>\n",
       "      <th id=\"T_81510_level0_col3\" class=\"col_heading level0 col3\" >spaCy (_lg)</th>\n",
       "      <th id=\"T_81510_level0_col4\" class=\"col_heading level0 col4\" >USE</th>\n",
       "      <th id=\"T_81510_level0_col5\" class=\"col_heading level0 col5\" >BERT</th>\n",
       "    </tr>\n",
       "  </thead>\n",
       "  <tbody>\n",
       "    <tr>\n",
       "      <th id=\"T_81510_level0_row0\" class=\"row_heading level0 row0\" >0</th>\n",
       "      <td id=\"T_81510_row0_col0\" class=\"data row0 col0\" >Context Understanding</td>\n",
       "      <td id=\"T_81510_row0_col1\" class=\"data row0 col1\" >No context (words treated independently)</td>\n",
       "      <td id=\"T_81510_row0_col2\" class=\"data row0 col2\" >No context (words treated independently)</td>\n",
       "      <td id=\"T_81510_row0_col3\" class=\"data row0 col3\" >Handles word context but limited to individual words</td>\n",
       "      <td id=\"T_81510_row0_col4\" class=\"data row0 col4\" >Captures sentence-level context</td>\n",
       "      <td id=\"T_81510_row0_col5\" class=\"data row0 col5\" >Captures both word-level and sentence-level context dynamically</td>\n",
       "    </tr>\n",
       "    <tr>\n",
       "      <th id=\"T_81510_level0_row1\" class=\"row_heading level0 row1\" >1</th>\n",
       "      <td id=\"T_81510_row1_col0\" class=\"data row1 col0\" >Dimensionality</td>\n",
       "      <td id=\"T_81510_row1_col1\" class=\"data row1 col1\" >High-dimensional, sparse vectors</td>\n",
       "      <td id=\"T_81510_row1_col2\" class=\"data row1 col2\" >High-dimensional, slightly better with rare words</td>\n",
       "      <td id=\"T_81510_row1_col3\" class=\"data row1 col3\" >Fixed-length low-dimensional, dense vectors</td>\n",
       "      <td id=\"T_81510_row1_col4\" class=\"data row1 col4\" >Fixed-length low-dimensional, dense vectors</td>\n",
       "      <td id=\"T_81510_row1_col5\" class=\"data row1 col5\" >Low-dimensional, dynamic contextual embeddings</td>\n",
       "    </tr>\n",
       "    <tr>\n",
       "      <th id=\"T_81510_level0_row2\" class=\"row_heading level0 row2\" >2</th>\n",
       "      <td id=\"T_81510_row2_col0\" class=\"data row2 col0\" >Reason for Use</td>\n",
       "      <td id=\"T_81510_row2_col1\" class=\"data row2 col1\" >Obsolete</td>\n",
       "      <td id=\"T_81510_row2_col2\" class=\"data row2 col2\" >Choose TF-IDF if embeddings for the required language are not available.</td>\n",
       "      <td id=\"T_81510_row2_col3\" class=\"data row2 col3\" >Choose spaCy for word-level understanding task.</td>\n",
       "      <td id=\"T_81510_row2_col4\" class=\"data row2 col4\" >Choose USE for sentence-level understanding task.</td>\n",
       "      <td id=\"T_81510_row2_col5\" class=\"data row2 col5\" >Choose BERT for tasks requiring subtle contextual understanding at both word and sentence level.</td>\n",
       "    </tr>\n",
       "  </tbody>\n",
       "</table>\n"
      ],
      "text/plain": [
       "<pandas.io.formats.style.Styler at 0x31c53e200>"
      ]
     },
     "execution_count": 78,
     "metadata": {},
     "output_type": "execute_result"
    }
   ],
   "source": [
    "feature_data = {\n",
    "    \"Feature\": [\"Context Understanding\", \"Dimensionality\", \"Reason for Use\"],\n",
    "    \"BoW\": [\n",
    "        \"No context (words treated independently)\", \n",
    "        \"High-dimensional, sparse vectors\", \n",
    "        \"Obsolete\"\n",
    "    ],\n",
    "    \"TF-IDF\": [\n",
    "        \"No context (words treated independently)\", \n",
    "        \"High-dimensional, slightly better with rare words\", \n",
    "        \"Choose TF-IDF if embeddings for the required language are not available.\"\n",
    "    ],\n",
    "    \"spaCy (_lg)\": [\n",
    "        \"Handles word context but limited to individual words\", \n",
    "        \"Fixed-length low-dimensional, dense vectors\", \n",
    "        \"Choose spaCy for word-level understanding task.\"\n",
    "    ],\n",
    "    \"USE\": [\n",
    "        \"Captures sentence-level context\", \n",
    "        \"Fixed-length low-dimensional, dense vectors\", \n",
    "        \"Choose USE for sentence-level understanding task.\"\n",
    "    ],\n",
    "    \"BERT\": [\n",
    "        \"Captures both word-level and sentence-level context dynamically\", \n",
    "        \"Low-dimensional, dynamic contextual embeddings\", \n",
    "        \"Choose BERT for tasks requiring subtle contextual understanding at both word and sentence level.\",\n",
    "    ],\n",
    "}\n",
    "feature_df = pd.DataFrame(feature_data)\n",
    "pd.set_option('display.max_colwidth', None)\n",
    "pd.set_option('display.expand_frame_repr', False)\n",
    "feature_df = feature_df.style.set_properties(**{'text-align': 'left'})\n",
    "feature_df\n"
   ]
  }
 ],
 "metadata": {
  "kernelspec": {
   "display_name": "Python 3 (ipykernel)",
   "language": "python",
   "name": "python3"
  },
  "language_info": {
   "codemirror_mode": {
    "name": "ipython",
    "version": 3
   },
   "file_extension": ".py",
   "mimetype": "text/x-python",
   "name": "python",
   "nbconvert_exporter": "python",
   "pygments_lexer": "ipython3",
   "version": "3.10.15"
  }
 },
 "nbformat": 4,
 "nbformat_minor": 5
}
